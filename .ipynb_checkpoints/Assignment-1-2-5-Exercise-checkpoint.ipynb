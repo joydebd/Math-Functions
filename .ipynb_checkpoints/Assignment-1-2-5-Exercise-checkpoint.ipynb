{
 "cells": [
  {
   "cell_type": "code",
   "execution_count": 2,
   "id": "ac312f97",
   "metadata": {},
   "outputs": [
    {
     "name": "stdout",
     "output_type": "stream",
     "text": [
      "Collecting import_ipynb\n",
      "  Downloading import_ipynb-0.1.4-py3-none-any.whl (4.1 kB)\n",
      "Requirement already satisfied: IPython in /Users/joydebdas/opt/anaconda3/lib/python3.9/site-packages (from import_ipynb) (7.29.0)\n",
      "Requirement already satisfied: nbformat in /Users/joydebdas/opt/anaconda3/lib/python3.9/site-packages (from import_ipynb) (5.1.3)\n",
      "Requirement already satisfied: pygments in /Users/joydebdas/opt/anaconda3/lib/python3.9/site-packages (from IPython->import_ipynb) (2.10.0)\n",
      "Requirement already satisfied: pickleshare in /Users/joydebdas/opt/anaconda3/lib/python3.9/site-packages (from IPython->import_ipynb) (0.7.5)\n",
      "Requirement already satisfied: setuptools>=18.5 in /Users/joydebdas/opt/anaconda3/lib/python3.9/site-packages (from IPython->import_ipynb) (58.0.4)\n",
      "Requirement already satisfied: traitlets>=4.2 in /Users/joydebdas/opt/anaconda3/lib/python3.9/site-packages (from IPython->import_ipynb) (5.1.0)\n",
      "Requirement already satisfied: prompt-toolkit!=3.0.0,!=3.0.1,<3.1.0,>=2.0.0 in /Users/joydebdas/opt/anaconda3/lib/python3.9/site-packages (from IPython->import_ipynb) (3.0.20)\n",
      "Requirement already satisfied: decorator in /Users/joydebdas/opt/anaconda3/lib/python3.9/site-packages (from IPython->import_ipynb) (5.1.0)\n",
      "Requirement already satisfied: backcall in /Users/joydebdas/opt/anaconda3/lib/python3.9/site-packages (from IPython->import_ipynb) (0.2.0)\n",
      "Requirement already satisfied: matplotlib-inline in /Users/joydebdas/opt/anaconda3/lib/python3.9/site-packages (from IPython->import_ipynb) (0.1.2)\n",
      "Requirement already satisfied: appnope in /Users/joydebdas/opt/anaconda3/lib/python3.9/site-packages (from IPython->import_ipynb) (0.1.2)\n",
      "Requirement already satisfied: jedi>=0.16 in /Users/joydebdas/opt/anaconda3/lib/python3.9/site-packages (from IPython->import_ipynb) (0.18.0)\n",
      "Requirement already satisfied: pexpect>4.3 in /Users/joydebdas/opt/anaconda3/lib/python3.9/site-packages (from IPython->import_ipynb) (4.8.0)\n",
      "Requirement already satisfied: parso<0.9.0,>=0.8.0 in /Users/joydebdas/opt/anaconda3/lib/python3.9/site-packages (from jedi>=0.16->IPython->import_ipynb) (0.8.2)\n",
      "Requirement already satisfied: ptyprocess>=0.5 in /Users/joydebdas/opt/anaconda3/lib/python3.9/site-packages (from pexpect>4.3->IPython->import_ipynb) (0.7.0)\n",
      "Requirement already satisfied: wcwidth in /Users/joydebdas/opt/anaconda3/lib/python3.9/site-packages (from prompt-toolkit!=3.0.0,!=3.0.1,<3.1.0,>=2.0.0->IPython->import_ipynb) (0.2.5)\n",
      "Requirement already satisfied: jsonschema!=2.5.0,>=2.4 in /Users/joydebdas/opt/anaconda3/lib/python3.9/site-packages (from nbformat->import_ipynb) (3.2.0)\n",
      "Requirement already satisfied: jupyter-core in /Users/joydebdas/opt/anaconda3/lib/python3.9/site-packages (from nbformat->import_ipynb) (4.8.1)\n",
      "Requirement already satisfied: ipython-genutils in /Users/joydebdas/opt/anaconda3/lib/python3.9/site-packages (from nbformat->import_ipynb) (0.2.0)\n",
      "Requirement already satisfied: six>=1.11.0 in /Users/joydebdas/opt/anaconda3/lib/python3.9/site-packages (from jsonschema!=2.5.0,>=2.4->nbformat->import_ipynb) (1.16.0)\n",
      "Requirement already satisfied: attrs>=17.4.0 in /Users/joydebdas/opt/anaconda3/lib/python3.9/site-packages (from jsonschema!=2.5.0,>=2.4->nbformat->import_ipynb) (21.2.0)\n",
      "Requirement already satisfied: pyrsistent>=0.14.0 in /Users/joydebdas/opt/anaconda3/lib/python3.9/site-packages (from jsonschema!=2.5.0,>=2.4->nbformat->import_ipynb) (0.18.0)\n",
      "Installing collected packages: import-ipynb\n",
      "Successfully installed import-ipynb-0.1.4\n",
      "Note: you may need to restart the kernel to use updated packages.\n"
     ]
    }
   ],
   "source": [
    "pip install import_ipynb"
   ]
  },
  {
   "cell_type": "code",
   "execution_count": 4,
   "id": "8a707e53",
   "metadata": {},
   "outputs": [
    {
     "data": {
      "image/png": "[encoded data removed]",
      "text/plain": [
       "<Figure size 432x288 with 1 Axes>"
      ]
     },
     "metadata": {
      "needs_background": "light"
     },
     "output_type": "display_data"
    }
   ],
   "source": [
    "# Importing necessary libraries\n",
    "import pandas as pd\n",
    "import numpy as np\n",
    "import import_ipynb\n",
    "import Utility\n",
    "from Utility import *\n",
    "from matplotlib import pyplot as plt\n",
    "\n",
    "\n",
    "# Preparing the data for the plot\n",
    "\n",
    "no_of_iterations = np.arange(10)\n",
    "\n",
    "# Define data values by creating a Dataframe using a n-dimensional list\n",
    "x_new_minus_x_old = np.array([[0.1667, 0.2436, 0.065, 0.1221], [0.0095, 0.0174, 0.0061, 0.0131],\n",
    "                              [0.0025, 0.0024, 0.0012, 0.002],[0.0004, 0.0003, 0.0001, 0.0002],\n",
    "                              [0.0, 0.0, 0.0, 0.0],[0.0, 0.0, 0.0, 0.0],\n",
    "                              [0.0, 0.0, 0.0, 0.0],[0.0, 0.0, 0.0, 0.0],[0.0, 0.0, 0.0, 0.0],\n",
    "                              [0.0, 0.0, 0.0, 0.0]],dtype=float)                        \n",
    "                   \n",
    "\n",
    "columns_size = x_new_minus_x_old.shape[1]\n",
    "\n",
    "\n",
    "# compute L2 norm\n",
    "L2_norm = np.zeros(no_of_iterations.size, dtype = float)\n",
    "for row in range(no_of_iterations.size):\n",
    "    sum_of_squares = 0\n",
    "    for column in range(columns_size):\n",
    "        sum_of_squares = sum_of_squares + x_new_minus_x_old[row,column]**2\n",
    "        L2_norm[row] = np.sqrt(sum_of_squares)\n",
    "\n",
    "# create a dataframe\n",
    "df = pd.DataFrame({'x':no_of_iterations,\n",
    "                   'y':L2_norm })      \n",
    "\n",
    "#create the plot with labels\n",
    "plt.scatter(df.x, df.y, color='purple')\n",
    "plt.plot(df.x, df.y, color='blue', label='||X(K+1) -X(k)||2')\n",
    "\n",
    "plt.xlabel('Iteration')\n",
    "plt.ylabel('|L2 norm')\n",
    "plt.title('L2 norm plot for Gauss Jacobi')\n",
    "plt.legend()\n",
    "plt.show()\n"
   ]
  },
  {
   "cell_type": "code",
   "execution_count": null,
   "id": "35c1deaf",
   "metadata": {},
   "outputs": [],
   "source": []
  }
 ],
 "metadata": {
  "kernelspec": {
   "display_name": "Python 3 (ipykernel)",
   "language": "python",
   "name": "python3"
  },
  "language_info": {
   "codemirror_mode": {
    "name": "ipython",
    "version": 3
   },
   "file_extension": ".py",
   "mimetype": "text/x-python",
   "name": "python",
   "nbconvert_exporter": "python",
   "pygments_lexer": "ipython3",
   "version": "3.9.7"
  }
 },
 "nbformat": 4,
 "nbformat_minor": 5
}
